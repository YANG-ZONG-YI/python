{
 "cells": [
  {
   "cell_type": "code",
   "execution_count": null,
   "metadata": {},
   "outputs": [],
   "source": [
    "#多行註解\n",
    "'''\n",
    "import requests\n",
    "'''"
   ]
  },
  {
   "cell_type": "code",
   "execution_count": 27,
   "metadata": {},
   "outputs": [
    {
     "name": "stdout",
     "output_type": "stream",
     "text": [
      "  hello world This is Iink1 This is Iink2   \n",
      "[<html> <body> <h1 id=\"title\">hello world</h1> <a class=\"link\" hrefe=\"#\">This is Iink1</a> <a class=\"link\" hrefe=\"# link2\">This is Iink2</a> </body> </html>, ' ']\n",
      "<a class=\"link\" hrefe=\"# link2\">This is Iink2</a>\n",
      "<h1 id=\"title\">hello world</h1>\n",
      "[<a class=\"link\" hrefe=\"#\">This is Iink1</a>, <a class=\"link\" hrefe=\"# link2\">This is Iink2</a>]\n"
     ]
    }
   ],
   "source": [
    "#資料剖析\n",
    "from bs4 import BeautifulSoup \n",
    "#樣本\n",
    "sample='\\\n",
    "<html> \\\n",
    "  <body> \\\n",
    "  <h1 id=\"title\">hello world</h1> \\\n",
    "  <a hrefe=\"#\" class=\"link\">This is Iink1</a> \\\n",
    "  <a hrefe=\"# link2\" class=\"link\">This is Iink2</a> \\\n",
    "  </body> \\\n",
    "</html>  '\n",
    "#裝載\n",
    "soup = BeautifulSoup(sample)\n",
    "print (soup.text)\n",
    "#全部丟出\n",
    "print (soup.contents)\n",
    "#標籤抽取 id:要加# class要加.\n",
    "#select(標籤)[第幾個元素]\n",
    "print (soup.select('a')[1])\n",
    "print (soup.select('#title')[0])\n",
    "print (soup.select('.link'))"
   ]
  },
  {
   "cell_type": "code",
   "execution_count": 25,
   "metadata": {},
   "outputs": [
    {
     "name": "stdout",
     "output_type": "stream",
     "text": [
      "¥ 25 公主深圳到臺灣集運專線淘寶特貨香港轉運公司ems美國際快遞dhl\n",
      "¥ 17 深圳到臺灣專線快遞集貨香港集運淘寶進口分寄轉運代收貨款COD\n",
      "¥ 25 公主深圳臺灣專線國 際快遞ems淘寶香港集運韓美英國澳洲物流代購\n",
      "¥ 20 臺灣集運莊家 臺灣海運專線快遞 國際快遞淘寶集運倉電池特貨專線\n",
      "¥ 10 臺灣集運淘寶集貨新加坡馬來西亞物流煙油電池官方轉運海運包稅\n",
      "¥ 20 淘寶集運臺灣專線沙發門傢俱新馬轉運澳洲日本敏感特貨花生五金\n",
      "¥ 12 淘寶上海到臺灣集運西班牙加拿大包郵轉運美英法國專線際快遞ems\n",
      "¥ 25 ALY國際臺灣集運專線海運物流特貨快遞淘寶大型傢俱轉運倉送到門\n",
      "¥ 17 佳得樂集運臺灣快遞專線集貨分寄電池淘寶黑貓大陸物流國際快專線\n",
      "¥ 14 深圳到臺灣一路發集運專線快遞特貨集貨淘寶黑貓進口物流代收貨款\n",
      "¥ 100 小太陽集運海運臺灣集運大型傢俱轉運國際快遞物流淘寶中轉倉\n",
      "¥ 20 深圳到臺灣集運特貨快遞專線 平安國際快遞比公主更優惠 淘寶轉運\n",
      "¥ 14 深圳臺灣集運貨到付款平安國 際快遞ems美國香港淘寶傢俬轉運包稅\n",
      "¥ 1 神州集運淘寶國際中轉淘轉運香港澳門臺灣英國⑧元朗 褔昌樓自取\n",
      "¥ 1 神州集運淘寶國際快遞香港臺灣美國英國法德意⑨天水圍新北江自取\n",
      "¥ 10 臺灣集運淘寶官方轉運煙油化妝品海運專線傢俱沙發電動車菜鳥物流\n",
      "¥ 16 臺灣集運專線國際快遞香港轉運集貨特貨香菇電子煙淘寶海運物流\n",
      "¥ 1 淘寶閒魚代付代買拍支付寶香港澳門臺灣海外學生網遊遊戲成人用品\n",
      "¥ 1 臺灣海運貨運專線/到淘寶傢俱集運集貨量大包清關包派送到門報價\n",
      "¥ 19 淘寶佳得樂臺灣運專線電子液體粉末普貨特貨集運集貨分黑貓派送\n",
      "¥ 1 淘寶集運網購採購 深圳空運快遞到臺灣專線國際轉運免費合箱加固\n",
      "¥ 12 上海到臺灣專線國 際快遞EMS順豐新加坡馬來西亞英國代購淘寶集運\n",
      "¥ 1 晉代香港集運淘寶傢私集運臺灣集貨大陸至臺灣轉運國際快遞國際\n",
      "¥ 17 公主深圳到臺灣專線雙清包稅代購集貨集運淘寶進口分寄大陸物流\n",
      "¥ 18 深圳到臺灣專線快遞臺灣集運集貨淘寶物理集運 C類黃飛鴻馬達電池\n",
      "¥ 1 臺灣專線集運國際快遞轉運物流食品帶電淘寶普貨特貨黑貓派送\n",
      "¥ 16 臺灣專線包清關 國際轉運淘寶海外進出口 上海至臺灣6-10KG\n",
      "¥ 13.5 地球村國際臺灣專線集運倉淘寶特貨大件轉運海外寄快遞黑貓100kg\n",
      "¥ 1 國際快遞轉運到香港臺灣馬來西亞專線淘寶網天貓1688閒魚代購代付\n",
      "¥ 10 臺灣集運淘寶官方轉運食品海運專線傢俱沙發電動車滑板車菜鳥物流\n",
      "¥ 16 臺灣專線快遞集貨 淘寶臺灣集運 臺灣專線分寄 代付  大陸集運\n",
      "¥ 1 上海至臺灣淘寶集貨包稅臺灣集運圓通中通申通韻達順豐包稅轉運\n",
      "¥ 1 大陸到臺灣專線信天翁國際快遞特貨郵寄淘寶集運物流轉運海外海運\n",
      "¥ 1 臺灣快遞物流-淘寶集運集貨-普貨、特貨 空運分寄雙清包稅時效快\n",
      "¥ 1 信用淘寶商品 visa卡寶貝支付寶代付繳費代拍海外臺灣香港代付款\n",
      "¥ 1 上海臺灣專綫 淘寶阿裏巴巴集運今發後至國際轉運站黑貓宅配到府\n"
     ]
    }
   ],
   "source": [
    "import requests\n",
    "from bs4 import BeautifulSoup\n",
    "url = requests.get(\"https://world.taobao.com/product/%E8%87%BA%E7%81%A3%E6%B7%98%E5%AF%B6.htm\")\n",
    "soup = BeautifulSoup(url.text)\n",
    "for item in soup.select('.item-box'):\n",
    "    #item.select('標籤,id,class')[0].文字.刪除空白()\n",
    "    print (item.select('.price')[0].text,item.select('.item-desc')[0].text.strip())"
   ]
  },
  {
   "cell_type": "code",
   "execution_count": 87,
   "metadata": {},
   "outputs": [
    {
     "name": "stdout",
     "output_type": "stream",
     "text": [
      "公主深圳到臺灣集運專線淘寶特貨香港轉運公司ems美國際快遞dhl\n",
      "評價 1365 |\n",
      "月銷量 2284\n",
      "1365\n",
      "2284\n",
      "[<div class=\"price\"><span class=\"promotionPrice\"><span class=\"tb-rmb\">¥</span>25.00</span> <span class=\"exchangePrice\"> <span style=\"margin-left: 16px\">|</span><span style=\"margin-left: 16px\">價格可能因優惠活動發生變化</span></span>\n",
      "</div>]\n",
      "¥25.00\n",
      "¥\n",
      " |價格可能因優惠活動發生變化\n",
      "|\n",
      "價格可能因優惠活動發生變化\n"
     ]
    }
   ],
   "source": [
    "import requests\n",
    "from bs4 import BeautifulSoup \n",
    "url = requests.get(\"https://world.taobao.com/item/567777167651.htm?spm=a21wu.10013406-tw.0.0.6d12369aqUmVPC\")\n",
    "soup = BeautifulSoup(url.text)\n",
    "reup = soup.select('#item')[0]\n",
    "print (reup.select('.title')[0].text)\n",
    "print (reup.select('.trade')[0].text)\n",
    "print (reup.select('.num')[0].text)\n",
    "print (reup.select('.num')[1].text)\n",
    "print (reup.select('.price'))\n",
    "#nth-of-type(抓取)\n",
    "print (reup.select('.price span:nth-of-type(1)')[0].text)\n",
    "print (reup.select('.price span:nth-of-type(2)')[0].text)\n",
    "print (reup.select('.price span:nth-of-type(3)')[0].text)\n",
    "print (reup.select('.price span:nth-of-type(4)')[0].text)\n",
    "print (reup.select('.price span:nth-of-type(5)')[0].text)"
   ]
  },
  {
   "cell_type": "code",
   "execution_count": 98,
   "metadata": {},
   "outputs": [
    {
     "name": "stdout",
     "output_type": "stream",
     "text": [
      "https://www.stockdog.com.tw/stockdog/graph.php?sid=1101&Gtype=834940d9f6002d38da9015c21725ada138&height=3\n",
      "https://www.stockdog.com.tw/stockdog/graph.php?sid=1101&Gtype=c54940d9f6002d38da9015c21725ada138\n",
      "https://www.stockdog.com.tw/stockdog/graph.php?date2=2018-12-07&sid=1101&Gtype=124940d9f6002d38da9015c21725ada138\n",
      "https://www.stockdog.com.tw/stockdog/graph.php?sid=1101&Gtype=134940d9f6002d38da9015c21725ada138&sdate=2017&edate=2018-12-14\n",
      "https://www.stockdog.com.tw/stockdog/graph.php?sid=1101&Gtype=094940d9f6002d38da9015c21725ada138\n",
      "https://www.stockdog.com.tw/stockdog/graph.php?sid=1101&Gtype=i94940d9f6002d38da9015c21725ada138\n",
      "https://www.stockdog.com.tw/stockdog/graph.php?date=2018-12-13&sid=1101&Gtype=044940d9f6002d38da9015c21725ada138\n",
      "https://www.stockdog.com.tw/stockdog/graph.php?sid=1101&Gtype=64&day=120\n",
      "https://www.stockdog.com.tw/stockdog/graph.php?date=2018-12-13&sid=1101&Ym=201812&Gtype=014940d9f6002d38da9015c21725ada138\n",
      "https://www.stockdog.com.tw/stockdog/graph.php?date=2018-12-13&sid=1101&Ym=201812&Gtype=904940d9f6002d38da9015c21725ada138\n",
      "https://www.stockdog.com.tw/stockdog/graph.php?sm=2&sid=1101&start=12&end=15&start2=1&end2=11&type=2&&Gtype=114940d9f6002d38da9015c21725ada138\n",
      "https://www.stockdog.com.tw/stockdog/graph.php?sid=1101&Gtype=j04940d9f6002d38da9015c21725ada138\n",
      "https://www.stockdog.com.tw/stockdog/graph.php?sid=1101&Gtype=j14940d9f6002d38da9015c21725ada138\n",
      "https://www.stockdog.com.tw/stockdog/graph.php?sid=1101&Gtype=j24940d9f6002d38da9015c21725ada138\n",
      "https://www.stockdog.com.tw/stockdog/graph.php?sid=1101&Gtype=j34940d9f6002d38da9015c21725ada138\n",
      "https://www.stockdog.com.tw/stockdog/graph.php?sid=1101&sdate=2017&edate=2018-12-14&Gtype=194940d9f6002d38da9015c21725ada138\n",
      "https://www.stockdog.com.tw/stockdog/graph.php?sid=1101&sdate=2017&edate=2018-12-14&Gtype=944940d9f6002d38da9015c21725ada138\n"
     ]
    }
   ],
   "source": [
    "import requests\n",
    "import re\n",
    "#判別是否為機器人(User-Agent)\n",
    "headers = {\n",
    "    'accept':'text/html,application/xhtml+xml,application/xml;q=0.9,image/webp,image/apng,*/*;q=0.8',\n",
    "    'accept-encoding':'gzip, deflate, br',\n",
    "    'accept-language':'zh-TW,zh;q=0.9,en-US;q=0.8,en;q=0.7',\n",
    "    'cookie':'G_AUTHUSER_H=0; STSSESSID=1hfdpgnr1nr7quakj6sadm8mkq; G_ENABLED_IDPS=google; _ga=GA1.3.2115948105.1544596079; _gid=GA1.3.1111732123.1544717880; _gat=1',\n",
    "    'referer':'https://www.stockdog.com.tw/stockdog/index.php?m=home',\n",
    "    'upgrade-insecure-requests':'1',\n",
    "    'user-agent':'Mozilla/5.0 (Windows NT 10.0; Win64; x64) AppleWebKit/537.36 (KHTML, like Gecko) Chrome/71.0.3578.98 Safari/537.36',\n",
    "}\n",
    "res = requests.get('https://www.stockdog.com.tw/stockdog/index.php?m=0&sid=1101+%E5%8F%B0%E6%B3%A5',headers = headers) \n",
    "#re.尋找findall(\\'g\\數字\\'\\),\\*.innerHTML=\\,\\\"(.*?)\\)\n",
    "m = re.findall('document.getElementById\\(\\'g\\d+\\'\\).innerHTML=\\'<iframe src=\\\"(.*?)\\\"',res.text)\n",
    "res2 =rs.get('https://www.stockdog.com.tw/stockdog/'+ m[0],headers = headers)\n",
    "for url in m :\n",
    "    print ('https://www.stockdog.com.tw/stockdog/'+ url)    "
   ]
  },
  {
   "cell_type": "code",
   "execution_count": 99,
   "metadata": {},
   "outputs": [],
   "source": [
    "import requests\n",
    "import re\n",
    "headers = {\n",
    "    'user-agent': 'Mozilla/5.0 (Windows NT 10.0; Win64; x64) AppleWebKit/537.36 (KHTML, like Gecko) Chrome/71.0.3578.98 Safari/537.36'\n",
    "}\n",
    "#requests.存取資料\n",
    "rs = requests.session()\n",
    "res = rs.get('https://www.stockdog.com.tw/stockdog/index.php?m=0&sid=1101+%E5%8F%B0%E6%B3%A5',headers = headers)\n",
    "m = re.findall('document.getElementById\\(\\'g\\d+\\'\\).innerHTML=\\'<iframe src=\\\"(.*?)\\\"',res.text)\n",
    "#url/+findall,判別碼\n",
    "#res2 =rs.get('https://www.stockdog.com.tw/stockdog/'+ m[0],headers = headers)"
   ]
  },
  {
   "cell_type": "code",
   "execution_count": 73,
   "metadata": {},
   "outputs": [],
   "source": [
    "#表示\n",
    "import re\n",
    "#m = re.search('app.set\\(\"trend\",Index.convert)\\((.*)?\\)\\)',res.text)"
   ]
  },
  {
   "cell_type": "code",
   "execution_count": 14,
   "metadata": {},
   "outputs": [
    {
     "name": "stdout",
     "output_type": "stream",
     "text": [
      "Populating the interactive namespace from numpy and matplotlib\n"
     ]
    }
   ],
   "source": [
    "#畫圖\n",
    "%pylab inline\n",
    "#改名 原名 as 自稱 \n",
    "import matplotlib.pyplot as plt\n",
    "#plt.plot()"
   ]
  },
  {
   "cell_type": "code",
   "execution_count": 2,
   "metadata": {},
   "outputs": [],
   "source": [
    "#安裝ChromeDriver\n",
    "from selenium import webdriver\n",
    "browser = webdriver.Chrome()\n",
    "browser.get('https://www.youtube.com/?gl=TW&hl=zh-tw')"
   ]
  },
  {
   "cell_type": "code",
   "execution_count": null,
   "metadata": {},
   "outputs": [],
   "source": [
    "#rate limiting\n",
    "import time\n",
    "time.sleep(3)"
   ]
  },
  {
   "cell_type": "code",
   "execution_count": 19,
   "metadata": {},
   "outputs": [
    {
     "data": {
      "text/plain": [
       "'\\nimport pandas\\n#csv副檔名\\ndf=pandas.read_csv(\"\")\\n#顯示\\ndf.head()\\n#查詢資料型態\\ndf.info()\\n'"
      ]
     },
     "execution_count": 19,
     "metadata": {},
     "output_type": "execute_result"
    }
   ],
   "source": [
    "'''\n",
    "import pandas\n",
    "#讀取csv副檔名\n",
    "df=pandas.read_csv(\"\")\n",
    "#顯示\n",
    "df.head()\n",
    "#查詢資料型態\n",
    "df.info()\n",
    "#讀取html副檔名(表格)\n",
    "dfs=pandas.read_html\n",
    "votes=dfs[]\n",
    "#改表格欄位\n",
    "votes.columns = votes.loc[1]\n",
    "#刪除\n",
    "votes.drop([0,3,4],inplace=True)\n",
    "#從新編排\n",
    "votes.reset_index(drop=True,inplace=True)\n",
    "#合併(axis整合)\n",
    "pandas.concat([votes,votes1],axis=1)\n",
    "#重新包裝\n",
    "pandas.DataFrame()\n",
    "#非空值\n",
    "notnull()\n",
    "'''"
   ]
  },
  {
   "cell_type": "code",
   "execution_count": null,
   "metadata": {},
   "outputs": [],
   "source": [
    "#?查詢用法\n",
    "#!安裝程式\n",
    "#資料型態\n",
    "#type()"
   ]
  },
  {
   "cell_type": "code",
   "execution_count": 5,
   "metadata": {},
   "outputs": [
    {
     "name": "stdout",
     "output_type": "stream",
     "text": [
      "107-12-13\n",
      "107-12-12\n",
      "107-12-11\n",
      "107-12-10\n",
      "107-12-09\n",
      "107-12-08\n",
      "107-12-07\n",
      "107-12-06\n",
      "107-12-05\n"
     ]
    }
   ],
   "source": [
    "#控制時間\n",
    "from datetime import date,timedelta\n",
    "today = date.today()\n",
    "for i in range(1,10):\n",
    "    today = today + timedelta(days=-1)\n",
    "    #變字串隔離\n",
    "    dayary =str(today).split(\"-\")\n",
    "    #合併\n",
    "    print ('-'.join([str(int(dayary[0])-1911),dayary[1],dayary[2]]))"
   ]
  },
  {
   "cell_type": "code",
   "execution_count": null,
   "metadata": {},
   "outputs": [],
   "source": [
    "#讀取\n",
    "import json\n",
    "#jd=json.loads('字典')\n",
    "#索引標籤\n",
    "#jd=keys()\n",
    "#jd=['data']\n",
    "#jd = json.loads(m.group(1))\n",
    "#trend =jd['cetails'][0]['trend']"
   ]
  },
  {
   "cell_type": "code",
   "execution_count": null,
   "metadata": {},
   "outputs": [],
   "source": [
    "from bs4 import BeautifulSoup \n",
    "soup = BeautifulSoup(url.text,'lxml')\n",
    "#純文字內容\n",
    "soup.select('.title')[0].text"
   ]
  },
  {
   "cell_type": "code",
   "execution_count": null,
   "metadata": {},
   "outputs": [],
   "source": [
    "products = []\n",
    "for k in jd['data']:\n",
    "    if 'list' in jd['data'][k]:\n",
    "        pandas.DataFrame(jd['data'][k]['list'])\n",
    "        products.append()"
   ]
  },
  {
   "cell_type": "code",
   "execution_count": null,
   "metadata": {},
   "outputs": [],
   "source": [
    "#列出標籤\n",
    "products_all.columns"
   ]
  },
  {
   "cell_type": "code",
   "execution_count": null,
   "metadata": {},
   "outputs": [],
   "source": [
    "products_all=pandas.concat(products)\n",
    "products_all.loc[products_all['主題'].notnull(),['標題']"
   ]
  },
  {
   "cell_type": "code",
   "execution_count": null,
   "metadata": {},
   "outputs": [],
   "source": [
    "products_all.info()"
   ]
  },
  {
   "cell_type": "code",
   "execution_count": null,
   "metadata": {},
   "outputs": [],
   "source": [
    "#字串轉數字\n",
    "products_all['主題'] = products_all['主題'].astype(float)\n",
    "products_all['新主題1']=products_all['主題1']-products_all['主題2']\n",
    "#新標籤引入(大到小)\n",
    "products_all.sort_values('',ascending=false)"
   ]
  },
  {
   "cell_type": "code",
   "execution_count": null,
   "metadata": {},
   "outputs": [],
   "source": [
    "from bs4 import BeautifulSoup \n",
    "soup = BeautifulSoup(url.text,'lxml')"
   ]
  },
  {
   "cell_type": "code",
   "execution_count": null,
   "metadata": {},
   "outputs": [],
   "source": [
    "import pandas\n",
    "select = pandas.Series(data, index = idx)\n",
    "#data_price.append()\n",
    "#products_all=pandas.concat(ele)\n",
    "#products_all.info()"
   ]
  },
  {
   "cell_type": "code",
   "execution_count": null,
   "metadata": {},
   "outputs": [],
   "source": [
    "import shutil\n",
    "f=open('export.csv','wb')\n",
    "shutil.copyfileobj(data_prices,f)\n",
    "f.closse"
   ]
  }
 ],
 "metadata": {
  "kernelspec": {
   "display_name": "Python 3",
   "language": "python",
   "name": "python3"
  },
  "language_info": {
   "codemirror_mode": {
    "name": "ipython",
    "version": 3
   },
   "file_extension": ".py",
   "mimetype": "text/x-python",
   "name": "python",
   "nbconvert_exporter": "python",
   "pygments_lexer": "ipython3",
   "version": "3.7.1"
  }
 },
 "nbformat": 4,
 "nbformat_minor": 2
}
