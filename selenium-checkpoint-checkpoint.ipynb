{
 "cells": [
  {
   "cell_type": "code",
   "execution_count": null,
   "metadata": {},
   "outputs": [],
   "source": [
    "#! pip install lxml\n",
    "#! pip install wheel "
   ]
  },
  {
   "cell_type": "code",
   "execution_count": 126,
   "metadata": {},
   "outputs": [],
   "source": [
    "from selenium import webdriver\n",
    "driver = webdriver.Chrome()\n",
    "driver.get(\"https://www.google.com.tw/?gfe_rd=cr&dcr=0&ei=0FXwWYnVOY7M8gfE5KXYBg\")\n",
    "#driver.close()"
   ]
  },
  {
   "cell_type": "code",
   "execution_count": null,
   "metadata": {},
   "outputs": [],
   "source": [
    "driver.find_element_by_class_name('RNNXgb')"
   ]
  },
  {
   "cell_type": "code",
   "execution_count": 3,
   "metadata": {},
   "outputs": [],
   "source": [
    "#連接文本\n",
    "#e=driver.find_element_by_link_text('English')\n",
    "#點擊\n",
    "#e.click()"
   ]
  },
  {
   "cell_type": "code",
   "execution_count": 85,
   "metadata": {},
   "outputs": [],
   "source": [
    "q=driver.find_element_by_name('q')\n",
    "#輸入\n",
    "q.send_keys('航空首頁')"
   ]
  },
  {
   "cell_type": "code",
   "execution_count": 86,
   "metadata": {},
   "outputs": [],
   "source": [
    "from selenium.webdriver.common.keys import Keys\n",
    "q.send_keys(Keys.RETURN)"
   ]
  },
  {
   "cell_type": "code",
   "execution_count": 127,
   "metadata": {},
   "outputs": [],
   "source": [
    "driver.find_element_by_name('q').send_keys('公開資訊',Keys.RETURN)"
   ]
  },
  {
   "cell_type": "code",
   "execution_count": 63,
   "metadata": {},
   "outputs": [],
   "source": [
    "#在id裡的a\n",
    "#nth-child(選擇相同標籤)\n",
    "e=driver.find_element_by_css_selector('#rso .g:nth-child(2) a:nth-child(1)').click()"
   ]
  },
  {
   "cell_type": "code",
   "execution_count": 36,
   "metadata": {},
   "outputs": [],
   "source": [
    "#頁面原始碼\n",
    "#driver.page_source"
   ]
  },
  {
   "cell_type": "code",
   "execution_count": 128,
   "metadata": {},
   "outputs": [
    {
     "data": {
      "text/plain": [
       "[<h3 class=\"LC20lb\">公開資訊觀測站 - 公開資料觀測站- 台灣證券交易所</h3>,\n",
       " <h3 class=\"LC20lb\">利害關係人專區\\股東服務--公開資訊觀測站連結</h3>,\n",
       " <h3 class=\"LC20lb\">康和證券集團- 公開資訊觀測站操作指引</h3>,\n",
       " <h3 class=\"LC20lb\">公開資訊觀測站</h3>,\n",
       " <h3 class=\"LC20lb\">政府資訊公開- 資訊與服務- 經濟部能源局(Bureau of Energy, Ministry of ...</h3>,\n",
       " <h3 class=\"LC20lb\">期貨業專區/期貨商公開資訊觀測站 - 台灣期貨交易所</h3>,\n",
       " <h3 class=\"LC20lb\">大專校院校務資訊公開</h3>,\n",
       " <h3 class=\"LC20lb\">保險業資訊公開 - 保險業公開資訊觀測站 - 保險局</h3>,\n",
       " <h3 class=\"LC20lb\">臺北市政府大巨蛋公開資訊專頁| 首頁</h3>]"
      ]
     },
     "execution_count": 128,
     "metadata": {},
     "output_type": "execute_result"
    }
   ],
   "source": [
    "from bs4 import BeautifulSoup \n",
    "soup = BeautifulSoup(driver.page_source,'lxml')\n",
    "soup.select('#rso a h3')"
   ]
  },
  {
   "cell_type": "code",
   "execution_count": 112,
   "metadata": {},
   "outputs": [
    {
     "data": {
      "text/plain": [
       "bs4.element.Tag"
      ]
     },
     "execution_count": 112,
     "metadata": {},
     "output_type": "execute_result"
    }
   ],
   "source": [
    "type(soup.select('#rso a')[0])"
   ]
  },
  {
   "cell_type": "code",
   "execution_count": 132,
   "metadata": {},
   "outputs": [
    {
     "data": {
      "text/plain": [
       "str"
      ]
     },
     "execution_count": 132,
     "metadata": {},
     "output_type": "execute_result"
    }
   ],
   "source": [
    "type(soup.select('#rso a')[0].prettify('utf-8').decode('utf-8'))"
   ]
  },
  {
   "cell_type": "code",
   "execution_count": 124,
   "metadata": {
    "scrolled": true
   },
   "outputs": [],
   "source": [
    "data_prices=soup.select('#rso a')[0].prettify('utf-8').decode('utf-8')"
   ]
  },
  {
   "cell_type": "code",
   "execution_count": 131,
   "metadata": {},
   "outputs": [
    {
     "name": "stdout",
     "output_type": "stream",
     "text": [
      "https:mops.twse.com.tw/mops/web/t146sb05\n",
      "https:www.fenghsin.com.tw/main_fin06.htm\n",
      "https://www.concords.com.tw/about/newmops.htm\n",
      "https:www.tybio.com.tw/mops/taiyen_mop.htm\n",
      "https://www.moeaboe.gov.tw/ecw/populace/content/SubMenu.aspx?menu_id=149\n",
      "https:www.taifex.com.tw/cht/8/futInfoStation\n",
      "https://udb.moe.edu.tw/\n",
      "https://ins-info.ib.gov.tw/customer/announceinfo.aspx\n",
      "https://taipeicity.github.io/tpe_dome/\n"
     ]
    }
   ],
   "source": [
    "#修改超連結\n",
    "import re\n",
    "for so in range(9):\n",
    "    data_price=soup.select('.iUh30')[so].text\n",
    "    m=re.search('https://(.*?)',data_price)   \n",
    "    if m==None :\n",
    "        data_price ='https:'+ data_price\n",
    "    print (data_price)"
   ]
  },
  {
   "cell_type": "code",
   "execution_count": 132,
   "metadata": {},
   "outputs": [
    {
     "ename": "SyntaxError",
     "evalue": "unexpected EOF while parsing (<ipython-input-132-86d07f95e21c>, line 5)",
     "output_type": "error",
     "traceback": [
      "\u001b[1;36m  File \u001b[1;32m\"<ipython-input-132-86d07f95e21c>\"\u001b[1;36m, line \u001b[1;32m5\u001b[0m\n\u001b[1;33m    except:\u001b[0m\n\u001b[1;37m           ^\u001b[0m\n\u001b[1;31mSyntaxError\u001b[0m\u001b[1;31m:\u001b[0m unexpected EOF while parsing\n"
     ]
    }
   ],
   "source": [
    "import re\n",
    "m=re.search('<a href=\"(.*?)\"',data_prices)\n",
    "    print (m.group(1))"
   ]
  },
  {
   "cell_type": "code",
   "execution_count": 29,
   "metadata": {},
   "outputs": [
    {
     "name": "stdout",
     "output_type": "stream",
     "text": [
      "資料- 維基百科，自由的百科全書 - Wikipedia\n",
      "维基数据- 维基百科，自由的百科全书\n",
      "用數據看台灣\n",
      "数据（计算机术语）_百度百科\n",
      "翻轉5觀念，你也能讓大數據這頭大象跳舞！ - 能力UP - 職場- Cheers ...\n",
      "數據管理落地的五個重要步驟｜數位時代\n",
      "大數據到底是什麼意思？事實上，它是一種精神！ - INSIDE\n",
      "NBA Taiwan | 各項數據排行 - NBA 台灣| 聯合新聞網\n",
      "技術統計: 熱火@ 76人 - NBA Taiwan | 數據統計\n"
     ]
    }
   ],
   "source": [
    "for ele in soup.select('#rso a h3'):\n",
    "    print (ele.text)"
   ]
  },
  {
   "cell_type": "code",
   "execution_count": 30,
   "metadata": {},
   "outputs": [],
   "source": [
    "driver.find_element_by_link_text('下一頁').click()"
   ]
  },
  {
   "cell_type": "code",
   "execution_count": 133,
   "metadata": {},
   "outputs": [
    {
     "name": "stdout",
     "output_type": "stream",
     "text": [
      "公開資訊- 真理大學\n",
      "公開資訊- 臺北醫學大學\n",
      "財團法人全國農漁業及金融資訊中心網站-公開資訊\n",
      "金融資訊網站- 金融監督管理委員會全球資訊網\n",
      "公開資訊 - 臺中市生命禮儀管理處- 殯葬資訊服務網\n",
      "政府資訊公開法 - 全國法規資料庫 - 法務部\n",
      "資訊公開- 資訊與服務- 中華民國經濟部(Ministry of Economic Affairs ...\n",
      "政府公開資訊- 國立公共資訊圖書館全球資訊網\n",
      "POU CHEN GROUP 寶成國際集團- 公開資訊觀測站\n",
      "財政部關務署臺北關-其他公開資訊\n",
      "中華民國空軍官校-公開資訊-法律法規命令\n",
      "臺北市松山區戶政事務所-公開資訊\n",
      "公開資訊- 高雄市政府勞工局全球資訊網\n",
      "公開資訊-新北市政府社會局\n",
      "衛生福利部中央健康保險署-資訊公開\n",
      "花蓮縣地方稅務局-公開資訊\n",
      "醫院公開資訊 - 成大醫院\n",
      "公開資訊觀測站- Chia Her Industrial Co., Ltd\n",
      "臺北市立美術館| 首頁| 關於我們| 政府公開資訊\n",
      "教育部全球資訊網-政府公開資訊\n",
      "櫃買中心 > 衍生商品 > 認購(售)權證專區 > 公開資訊觀測站權證資訊\n",
      "國家圖書館-政府公開資訊\n",
      "公開資訊 - 明志科技大學\n",
      "財團法人農業科技研究院-公開資訊\n",
      "春日鄉公所-公開資訊 - 屏東縣政府\n",
      "國立海洋生物博物館-政府公開資訊\n",
      "政府公開資訊 - 高雄市立圖書館\n",
      "公開資訊 - 財團法人全國認證基金會\n",
      "逢甲大學全球資訊網-公開資訊\n",
      "公開資訊- 財政部賦稅署\n"
     ]
    }
   ],
   "source": [
    "import time\n",
    "for p in range(3):\n",
    "    driver.find_element_by_link_text('下一頁').click()\n",
    "    soup = BeautifulSoup(driver.page_source,'lxml')\n",
    "    for ele in soup.select('#rso a h3'):\n",
    "        print (ele.text)\n",
    "    time.sleep(1)"
   ]
  },
  {
   "cell_type": "code",
   "execution_count": null,
   "metadata": {},
   "outputs": [],
   "source": [
    "#rate limiting\n",
    "import time\n",
    "time.sleep(3)"
   ]
  },
  {
   "cell_type": "code",
   "execution_count": null,
   "metadata": {},
   "outputs": [],
   "source": [
    "#資料型態\n",
    "type()"
   ]
  },
  {
   "cell_type": "code",
   "execution_count": 77,
   "metadata": {},
   "outputs": [],
   "source": [
    "driver.find_element_by_name('year').send_keys('106')\n",
    "driver.find_element_by_name('season').send_keys('3')"
   ]
  },
  {
   "cell_type": "code",
   "execution_count": null,
   "metadata": {},
   "outputs": [],
   "source": [
    "#影含等待回應\n",
    "driver.implicitly_wait(30)"
   ]
  }
 ],
 "metadata": {
  "kernelspec": {
   "display_name": "Python 3",
   "language": "python",
   "name": "python3"
  },
  "language_info": {
   "codemirror_mode": {
    "name": "ipython",
    "version": 3
   },
   "file_extension": ".py",
   "mimetype": "text/x-python",
   "name": "python",
   "nbconvert_exporter": "python",
   "pygments_lexer": "ipython3",
   "version": "3.7.1"
  }
 },
 "nbformat": 4,
 "nbformat_minor": 2
}
