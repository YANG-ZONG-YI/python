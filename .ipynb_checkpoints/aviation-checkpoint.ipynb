{
 "cells": [
  {
   "cell_type": "code",
   "execution_count": 8,
   "metadata": {},
   "outputs": [
    {
     "data": {
      "text/plain": [
       "'\\nprint (res2.text)\\nres2.text\\nres2\\n'"
      ]
     },
     "execution_count": 8,
     "metadata": {},
     "output_type": "execute_result"
    }
   ],
   "source": [
    "import requests\n",
    "payload={\n",
    "    'revAvailabilitySearch.SearchInfo.Direction':' Return',\n",
    "    'revAvailabilitySearch.SearchInfo.SearchStations[0].DepartureStationCode':' TPE',\n",
    "    'revAvailabilitySearch.SearchInfo.SearchStations[0].ArrivalStationCode':' NRT',\n",
    "    'revAvailabilitySearch.SearchInfo.SearchStations[0].DepartureDate':' 03/26/2019',\n",
    "    'revAvailabilitySearch.SearchInfo.SearchStations[1].DepartureDate':' 04/03/2019',\n",
    "    'revAvailabilitySearch.SearchInfo.AdultCount':' 1',\n",
    "    'revAvailabilitySearch.SearchInfo.ChildrenCount':' 0',\n",
    "    'revAvailabilitySearch.SearchInfo.InfantCount':' 0',\n",
    "    'revAvailabilitySearch.SearchInfo.PromoCode':' ',\n",
    "}\n",
    "headers={\"User-Agent: Mozilla/5.0 (Windows NT 10.0; Win64; x64) AppleWebKit/537.36 (KHTML, like Gecko) Chrome/71.0.3578.98 Safari/537.36\"}\n",
    "#保持通話\n",
    "rs = requests.session()\n",
    "res = rs.post(\"https://makeabooking.flyscoot.com/Book/?culture=zh-tw\",data = payload)\n",
    "res2 = rs.get(\"https://makeabooking.flyscoot.com/Book/Flight\")\n",
    "'''\n",
    "print (res2.text)\n",
    "res2.text\n",
    "res2\n",
    "'''"
   ]
  },
  {
   "cell_type": "code",
   "execution_count": null,
   "metadata": {},
   "outputs": [],
   "source": [
    "#rate limiting\n",
    "import time\n",
    "time.sleep(3)"
   ]
  },
  {
   "cell_type": "code",
   "execution_count": null,
   "metadata": {},
   "outputs": [],
   "source": [
    "資料型態\n",
    "type()"
   ]
  }
 ],
 "metadata": {
  "kernelspec": {
   "display_name": "Python 3",
   "language": "python",
   "name": "python3"
  },
  "language_info": {
   "codemirror_mode": {
    "name": "ipython",
    "version": 3
   },
   "file_extension": ".py",
   "mimetype": "text/x-python",
   "name": "python",
   "nbconvert_exporter": "python",
   "pygments_lexer": "ipython3",
   "version": "3.7.1"
  }
 },
 "nbformat": 4,
 "nbformat_minor": 2
}
