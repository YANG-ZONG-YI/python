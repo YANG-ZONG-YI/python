{
 "cells": [
  {
   "cell_type": "code",
   "execution_count": 1,
   "metadata": {},
   "outputs": [],
   "source": [
    "#擷取套件\n",
    "import requests\n",
    "#requests.請求方式\n",
    "url = requests.get(\"https://zh.wikipedia.org/wiki/%E8%B6%85%E6%96%87%E6%9C%AC%E4%BC%A0%E8%BE%93%E5%8D%8F%E8%AE%AE\")\n",
    "#印(文本)\n",
    "#print (url.text)\n",
    "#res2.text\n",
    "#res2"
   ]
  },
  {
   "cell_type": "code",
   "execution_count": 27,
   "metadata": {},
   "outputs": [
    {
     "name": "stdout",
     "output_type": "stream",
     "text": [
      "  hello world This is Iink1 This is Iink2   \n",
      "[<html> <body> <h1 id=\"title\">hello world</h1> <a class=\"link\" hrefe=\"#\">This is Iink1</a> <a class=\"link\" hrefe=\"# link2\">This is Iink2</a> </body> </html>, ' ']\n",
      "<a class=\"link\" hrefe=\"# link2\">This is Iink2</a>\n",
      "<h1 id=\"title\">hello world</h1>\n",
      "[<a class=\"link\" hrefe=\"#\">This is Iink1</a>, <a class=\"link\" hrefe=\"# link2\">This is Iink2</a>]\n"
     ]
    }
   ],
   "source": [
    "#資料剖析\n",
    "from bs4 import BeautifulSoup \n",
    "#樣本\n",
    "sample='\\\n",
    "<html> \\\n",
    "  <body> \\\n",
    "  <h1 id=\"title\">hello world</h1> \\\n",
    "  <a hrefe=\"#\" class=\"link\">This is Iink1</a> \\\n",
    "  <a hrefe=\"# link2\" class=\"link\">This is Iink2</a> \\\n",
    "  </body> \\\n",
    "</html>  '\n",
    "#裝載\n",
    "soup = BeautifulSoup(sample)\n",
    "print (soup.text)\n",
    "#全部丟出\n",
    "print (soup.contents)\n",
    "#標籤抽取 id:要加# class要加.\n",
    "#select(標籤)[第幾個元素]\n",
    "print (soup.select('a')[1])\n",
    "print (soup.select('#title')[0])\n",
    "print (soup.select('.link'))"
   ]
  },
  {
   "cell_type": "code",
   "execution_count": 2,
   "metadata": {},
   "outputs": [],
   "source": [
    "import requests\n",
    "from bs4 import BeautifulSoup\n",
    "url = requests.get(\"https://world.taobao.com/product/%E8%87%BA%E7%81%A3%E6%B7%98%E5%AF%B6.htm\")\n",
    "#soup = BeautifulSoup(url.text)\n",
    "#for item in soup.select('.item-box'):\n",
    "    #item.select('標籤,id,class')[0].文字.刪除空白()\n",
    "    #print (item.select('.price')[0].text,item.select('.item-desc')[0].text.strip())"
   ]
  },
  {
   "cell_type": "code",
   "execution_count": 3,
   "metadata": {},
   "outputs": [
    {
     "data": {
      "text/plain": [
       "\"\\nimport requests\\nfrom bs4 import BeautifulSoup\\npayload ={headers/from data(裝載內容)\\n    'c': '91ed89b5-db35-476e-91ea-6e1d6390fc1f',\\n    'tripType': 'ROUND_TRIP',\\n    'origin': '台北, 台灣  (TPE-桃園國際機場)',\\n    'destination': '成田, 日本',\\n    'startDate': '2019/3/4',\\n    'endDate': '2019/3/11',\\n    'checkInDate': '2019/3/4',\\n    'checkOutDate': '2019/3/11',\\n}\\n#requests.post('網址', 資料 = 字典)\\nurl = requests.post('網址', data =payload)\\nsoup = BeautifulSoup(url.text)\\n\""
      ]
     },
     "execution_count": 3,
     "metadata": {},
     "output_type": "execute_result"
    }
   ],
   "source": [
    "#多行註解\n",
    "'''\n",
    "import requests\n",
    "payload ={headers/from data(裝載內容)\n",
    "    'origin': '台北, 台灣  (TPE-桃園國際機場)',\n",
    "    'destination': '成田, 日本',\n",
    "}\n",
    "#requests.post('網址', 資料 = 字典)\n",
    "url = requests.post('網址', data =payload)\n",
    "'''\n",
    "#print (soup.text)"
   ]
  },
  {
   "cell_type": "code",
   "execution_count": 4,
   "metadata": {},
   "outputs": [],
   "source": [
    "#import requests\n",
    "#payload='{headers/內容}'\n",
    "#head=('Content-Type': 'application/json')資料類型\n",
    "#rul=requests.post('url',data=payload,headers=head)\n",
    "#.font18.(連結)no-overflow"
   ]
  },
  {
   "cell_type": "code",
   "execution_count": 59,
   "metadata": {},
   "outputs": [
    {
     "name": "stdout",
     "output_type": "stream",
     "text": [
      "公主深圳到臺灣集運專線淘寶特貨香港轉運公司ems美國際快遞dhl\n",
      "評價 1333 |\n",
      "月銷量 2265\n",
      "1333\n",
      "2265\n",
      "[<div class=\"price\"><span class=\"promotionPrice\"><span class=\"tb-rmb\">¥</span>25.00</span> <span class=\"exchangePrice\"> <span style=\"margin-left: 16px\">|</span><span style=\"margin-left: 16px\">價格可能因優惠活動發生變化</span></span>\n",
      "</div>]\n",
      "¥25.00\n",
      "¥\n",
      " |價格可能因優惠活動發生變化\n",
      "|\n",
      "價格可能因優惠活動發生變化\n"
     ]
    }
   ],
   "source": [
    "import requests\n",
    "from bs4 import BeautifulSoup \n",
    "url = requests.get(\"https://world.taobao.com/item/567777167651.htm?spm=a21wu.10013406-tw.0.0.6d12369aqUmVPC\")\n",
    "soup = BeautifulSoup(url.text)\n",
    "reup = soup.select('#item')[0]\n",
    "print (reup.select('.title')[0].text)\n",
    "print (reup.select('.trade')[0].text)\n",
    "print (reup.select('.num')[0].text)\n",
    "print (reup.select('.num')[1].text)\n",
    "print (reup.select('.price'))\n",
    "#nth-of-type(抓取)\n",
    "print (reup.select('.price span:nth-of-type(1)')[0].text)\n",
    "print (reup.select('.price span:nth-of-type(2)')[0].text)\n",
    "print (reup.select('.price span:nth-of-type(3)')[0].text)\n",
    "print (reup.select('.price span:nth-of-type(4)')[0].text)\n",
    "print (reup.select('.price span:nth-of-type(5)')[0].text)"
   ]
  },
  {
   "cell_type": "code",
   "execution_count": 43,
   "metadata": {},
   "outputs": [],
   "source": [
    "import requests\n",
    "import re\n",
    "#判別是否為機器人(User-Agent)\n",
    "headers = {'User-Agent': 'Mozilla/5.0 (Windows NT 10.0; Win64; x64) AppleWebKit/537.36 (KHTML, like Gecko) Chrome/71.0.3578.80 Safari/537.36'}\n",
    "res = requests.get('https://www.stockdog.com.tw/stockdog/index.php?m=0&sid=1101+%E5%8F%B0%E6%B3%A5',headers = headers) \n",
    "#print (res.text)\n",
    "#re.尋找findall(\\'g\\數字\\'\\),\\*.innerHTML=\\,\\\"(.*?)\\)\n",
    "m = re.findall('document.getElementById\\(\\'g\\d+\\'\\).innerHTML=\\'<iframe src=\\\"(.*?)\\\"',res.text)\n",
    "for url in m :\n",
    "    print ('https://www.stockdog.com.tw/stockdog/'+ url)"
   ]
  },
  {
   "cell_type": "code",
   "execution_count": 8,
   "metadata": {},
   "outputs": [],
   "source": [
    "import requests\n",
    "import re\n",
    "headers = {'User-Agent': 'Mozilla/5.0 (Windows NT 10.0; Win64; x64) AppleWebKit/537.36 (KHTML, like Gecko) Chrome/71.0.3578.80 Safari/537.36'}\n",
    "#requests.存取資料\n",
    "rs = requests.session()\n",
    "res = rs.get('https://www.stockdog.com.tw/stockdog/index.php?m=0&sid=1101+%E5%8F%B0%E6%B3%A5',headers = headers) \n",
    "m = re.findall('document.getElementById\\(\\'g\\d+\\'\\).innerHTML=\\'<iframe src=\\\"(.*?)\\\"',res.text)\n",
    "#url/+findall,判別碼\n",
    "#res2 =rs.get('https://www.stockdog.com.tw/stockdog/'+ m[0],headers = headers)\n",
    "#print (res2.text)"
   ]
  },
  {
   "cell_type": "code",
   "execution_count": 7,
   "metadata": {},
   "outputs": [
    {
     "name": "stdout",
     "output_type": "stream",
     "text": [
      "\n"
     ]
    }
   ],
   "source": [
    "import requests\n",
    "headers ={}\n",
    "rs=requests.session()\n",
    "#密碼&\n",
    "res = rs.get(\"\",headers =headers)"
   ]
  },
  {
   "cell_type": "code",
   "execution_count": 10,
   "metadata": {},
   "outputs": [],
   "source": [
    "#表示\n",
    "import re\n",
    "#m = re.search('app.set\\(\"trend\",Index.convert)\\((.*)?\\)\\)',res.text)"
   ]
  },
  {
   "cell_type": "code",
   "execution_count": null,
   "metadata": {},
   "outputs": [],
   "source": [
    "#讀取\n",
    "import json\n",
    "#jd = json.loads(m.group(1))\n",
    "#trend =jd['cetails'][0]['trend']"
   ]
  },
  {
   "cell_type": "code",
   "execution_count": 14,
   "metadata": {},
   "outputs": [
    {
     "name": "stdout",
     "output_type": "stream",
     "text": [
      "Populating the interactive namespace from numpy and matplotlib\n"
     ]
    }
   ],
   "source": [
    "#畫圖\n",
    "%pylab inline\n",
    "#改名 原名 as 自稱 \n",
    "import matplotlib.pyplot as plt\n",
    "#plt.plot()"
   ]
  },
  {
   "cell_type": "code",
   "execution_count": 16,
   "metadata": {},
   "outputs": [
    {
     "name": "stdout",
     "output_type": "stream",
     "text": [
      "\n"
     ]
    }
   ],
   "source": [
    "import requests\n",
    "#post=get(url?form data)\n",
    "res = requests.get(\"https://www.tdcc.com.tw/smWeb/QryStockAjax.do?scaDates=20181207&scaDate=20181207&SqlMethod=StockNo&StockNo=2330&radioStockNo=2330&StockName=&REQ_OPR=SELECT&clkStockNo=2330&clkStockName=\")\n",
    "print (res.text)"
   ]
  },
  {
   "cell_type": "code",
   "execution_count": 2,
   "metadata": {},
   "outputs": [],
   "source": [
    "#安裝ChromeDriver\n",
    "from selenium import webdriver\n",
    "browser = webdriver.Chrome()\n",
    "browser.get('https://www.youtube.com/?gl=TW&hl=zh-tw')"
   ]
  },
  {
   "cell_type": "code",
   "execution_count": null,
   "metadata": {},
   "outputs": [],
   "source": [
    "#rate limiting\n",
    "import time\n",
    "time.sleep(3)"
   ]
  },
  {
   "cell_type": "code",
   "execution_count": 11,
   "metadata": {},
   "outputs": [],
   "source": [
    "#import requests\n",
    "#payload={\"by=relevancy&keyword=%E8%A1%8C%E6%9D%8E%E7%AE%B1&limit=50&newest=0&order=desc&page_type=search\"}\n",
    "#headers={}\n",
    "#res = requests.get(\"https://shopee.tw/api/v2/search_items/?by=relevancy&keyword=%E8%A1%8C%E6%9D%8E%E7%AE%B1&limit=50&newest=0&order=desc&page_type=search\",data = payload, headers = headers)"
   ]
  },
  {
   "cell_type": "code",
   "execution_count": null,
   "metadata": {},
   "outputs": [],
   "source": [
    "import json\n",
    "jd=json.loads('requests')"
   ]
  },
  {
   "cell_type": "code",
   "execution_count": 10,
   "metadata": {},
   "outputs": [
    {
     "ename": "ModuleNotFoundError",
     "evalue": "No module named 'pandas'",
     "output_type": "error",
     "traceback": [
      "\u001b[1;31m---------------------------------------------------------------------------\u001b[0m",
      "\u001b[1;31mModuleNotFoundError\u001b[0m                       Traceback (most recent call last)",
      "\u001b[1;32m<ipython-input-10-b53e0a353063>\u001b[0m in \u001b[0;36m<module>\u001b[1;34m\u001b[0m\n\u001b[1;32m----> 1\u001b[1;33m \u001b[1;32mimport\u001b[0m \u001b[0mpandas\u001b[0m\u001b[1;33m\u001b[0m\u001b[1;33m\u001b[0m\u001b[0m\n\u001b[0m\u001b[0;32m      2\u001b[0m \u001b[1;31m#csv副檔名\u001b[0m\u001b[1;33m\u001b[0m\u001b[1;33m\u001b[0m\u001b[1;33m\u001b[0m\u001b[0m\n\u001b[0;32m      3\u001b[0m \u001b[0mdf\u001b[0m\u001b[1;33m=\u001b[0m\u001b[0mpandas\u001b[0m\u001b[1;33m.\u001b[0m\u001b[0mread_csv\u001b[0m\u001b[1;33m(\u001b[0m\u001b[1;34m\"\"\u001b[0m\u001b[1;33m)\u001b[0m\u001b[1;33m\u001b[0m\u001b[1;33m\u001b[0m\u001b[0m\n\u001b[0;32m      4\u001b[0m \u001b[1;31m#顯示\u001b[0m\u001b[1;33m\u001b[0m\u001b[1;33m\u001b[0m\u001b[1;33m\u001b[0m\u001b[0m\n\u001b[0;32m      5\u001b[0m \u001b[0mdf\u001b[0m\u001b[1;33m.\u001b[0m\u001b[0mhead\u001b[0m\u001b[1;33m(\u001b[0m\u001b[1;33m)\u001b[0m\u001b[1;33m\u001b[0m\u001b[1;33m\u001b[0m\u001b[0m\n",
      "\u001b[1;31mModuleNotFoundError\u001b[0m: No module named 'pandas'"
     ]
    }
   ],
   "source": [
    "import pandas\n",
    "#csv副檔名\n",
    "df=pandas.read_csv(\"\")\n",
    "#顯示\n",
    "df.head()\n",
    "#查詢資料型態\n",
    "df.info()"
   ]
  },
  {
   "cell_type": "code",
   "execution_count": null,
   "metadata": {},
   "outputs": [],
   "source": [
    "#?查詢用法\n",
    "#資料型態\n",
    "#type()"
   ]
  },
  {
   "cell_type": "code",
   "execution_count": 17,
   "metadata": {},
   "outputs": [],
   "source": [
    "#控制時間\n",
    "from datetime import date,timedelta\n",
    "today = date.today\n",
    "for i in range(1,10):\n",
    "    #today = today + timedelta(days=-1)\n",
    "    dayary =str(today).split(\"-\")\n",
    "    #print ('-'.join([str(int(dayary[0])-1911),dayary[1],dayary[2]]))"
   ]
  },
  {
   "cell_type": "code",
   "execution_count": null,
   "metadata": {},
   "outputs": [],
   "source": []
  }
 ],
 "metadata": {
  "kernelspec": {
   "display_name": "Python 3",
   "language": "python",
   "name": "python3"
  },
  "language_info": {
   "codemirror_mode": {
    "name": "ipython",
    "version": 3
   },
   "file_extension": ".py",
   "mimetype": "text/x-python",
   "name": "python",
   "nbconvert_exporter": "python",
   "pygments_lexer": "ipython3",
   "version": "3.7.1"
  }
 },
 "nbformat": 4,
 "nbformat_minor": 2
}
